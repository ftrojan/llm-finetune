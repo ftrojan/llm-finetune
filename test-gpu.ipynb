{
 "cells": [
  {
   "cell_type": "markdown",
   "id": "2e88ce25-4387-4407-b1a4-133a38ab6d3a",
   "metadata": {},
   "source": [
    "https://developer.apple.com/metal/pytorch/"
   ]
  },
  {
   "cell_type": "code",
   "execution_count": 1,
   "id": "fe4bd483-5158-46ac-8616-8a401f1172ba",
   "metadata": {},
   "outputs": [
    {
     "name": "stdout",
     "output_type": "stream",
     "text": [
      "tensor([1.], device='mps:0')\n"
     ]
    }
   ],
   "source": [
    "import torch\n",
    "if torch.backends.mps.is_available():\n",
    "    mps_device = torch.device(\"mps\")\n",
    "    x = torch.ones(1, device=mps_device)\n",
    "    print (x)\n",
    "else:\n",
    "    print (\"MPS device not found.\")"
   ]
  },
  {
   "cell_type": "code",
   "execution_count": 2,
   "id": "55e61e42-8957-40c9-900c-9247e0c952bd",
   "metadata": {},
   "outputs": [],
   "source": [
    "# benchmark CPU\n",
    "import torch\n",
    "device = torch.device('cpu')\n",
    "x = torch.rand((10000, 10000), dtype=torch.float32)\n",
    "y = torch.rand((10000, 10000), dtype=torch.float32)\n",
    "x = x.to(device)\n",
    "y = y.to(device)"
   ]
  },
  {
   "cell_type": "code",
   "execution_count": 3,
   "id": "e502ff10-8364-418d-9031-a0bf8a395d3e",
   "metadata": {},
   "outputs": [
    {
     "name": "stdout",
     "output_type": "stream",
     "text": [
      "21 ms ± 1.06 ms per loop (mean ± std. dev. of 7 runs, 100 loops each)\n"
     ]
    }
   ],
   "source": [
    "%%timeit\n",
    "x * y"
   ]
  },
  {
   "cell_type": "code",
   "execution_count": 4,
   "id": "239c2f6d-c8d1-4d48-9a9a-15e828f592f0",
   "metadata": {},
   "outputs": [],
   "source": [
    "# benchmark GPU - should be 5x faster\n",
    "import torch\n",
    "device = torch.device('mps')\n",
    "x = torch.rand((10000, 10000), dtype=torch.float32)\n",
    "y = torch.rand((10000, 10000), dtype=torch.float32)\n",
    "x = x.to(device)\n",
    "y = y.to(device)"
   ]
  },
  {
   "cell_type": "code",
   "execution_count": 5,
   "id": "53549f76-ae74-46e7-b4b4-618e17726f95",
   "metadata": {},
   "outputs": [
    {
     "name": "stdout",
     "output_type": "stream",
     "text": [
      "6.74 ms ± 7.15 µs per loop (mean ± std. dev. of 7 runs, 100 loops each)\n"
     ]
    }
   ],
   "source": [
    "%%timeit\n",
    "x * y"
   ]
  },
  {
   "cell_type": "markdown",
   "id": "47b5e536-0931-4fb4-ba76-bb7201dbf2d8",
   "metadata": {},
   "source": [
    "https://github.com/jeffheaton/t81_558_deep_learning/blob/pytorch/install/pytorch-install-aug-2022.ipynb"
   ]
  },
  {
   "cell_type": "code",
   "execution_count": 6,
   "id": "27f6fe9f-5c15-47ba-8fde-fa3a3e652dc9",
   "metadata": {},
   "outputs": [
    {
     "name": "stdout",
     "output_type": "stream",
     "text": [
      "Python Platform: macOS-13.5-arm64-arm-64bit\n",
      "PyTorch Version: 2.0.0\n",
      "\n",
      "Python 3.10.12 | packaged by conda-forge | (main, Jun 23 2023, 22:41:52) [Clang 15.0.7 ]\n",
      "Pandas 2.0.3\n",
      "Scikit-Learn 1.3.0\n",
      "GPU is NOT AVAILABLE\n",
      "MPS (Apple Metal) is AVAILABLE\n",
      "Target device is mps\n"
     ]
    }
   ],
   "source": [
    "# What version of Python do you have?\n",
    "import sys\n",
    "import platform\n",
    "import torch\n",
    "import pandas as pd\n",
    "import sklearn as sk\n",
    "\n",
    "has_gpu = torch.cuda.is_available()\n",
    "has_mps = getattr(torch,'has_mps',False)\n",
    "device = \"mps\" if getattr(torch,'has_mps',False) \\\n",
    "    else \"gpu\" if torch.cuda.is_available() else \"cpu\"\n",
    "\n",
    "print(f\"Python Platform: {platform.platform()}\")\n",
    "print(f\"PyTorch Version: {torch.__version__}\")\n",
    "print()\n",
    "print(f\"Python {sys.version}\")\n",
    "print(f\"Pandas {pd.__version__}\")\n",
    "print(f\"Scikit-Learn {sk.__version__}\")\n",
    "print(\"GPU is\", \"available\" if has_gpu else \"NOT AVAILABLE\")\n",
    "print(\"MPS (Apple Metal) is\", \"AVAILABLE\" if has_mps else \"NOT AVAILABLE\")\n",
    "print(f\"Target device is {device}\")"
   ]
  }
 ],
 "metadata": {
  "kernelspec": {
   "display_name": "falcon-7b-finetune",
   "language": "python",
   "name": "pytorch"
  },
  "language_info": {
   "codemirror_mode": {
    "name": "ipython",
    "version": 3
   },
   "file_extension": ".py",
   "mimetype": "text/x-python",
   "name": "python",
   "nbconvert_exporter": "python",
   "pygments_lexer": "ipython3",
   "version": "3.10.12"
  }
 },
 "nbformat": 4,
 "nbformat_minor": 5
}
