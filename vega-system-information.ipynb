{
 "cells": [
  {
   "cell_type": "code",
   "execution_count": 1,
   "id": "c6714ec5-7367-437d-b817-83cf5fadc9eb",
   "metadata": {
    "tags": []
   },
   "outputs": [],
   "source": [
    "import platform\n",
    "import psutil"
   ]
  },
  {
   "cell_type": "code",
   "execution_count": 2,
   "id": "55e61e42-8957-40c9-900c-9247e0c952bd",
   "metadata": {},
   "outputs": [
    {
     "data": {
      "text/plain": [
       "'x86_64'"
      ]
     },
     "execution_count": 2,
     "metadata": {},
     "output_type": "execute_result"
    }
   ],
   "source": [
    "platform.machine()"
   ]
  },
  {
   "cell_type": "code",
   "execution_count": 3,
   "id": "e502ff10-8364-418d-9031-a0bf8a395d3e",
   "metadata": {},
   "outputs": [
    {
     "data": {
      "text/plain": [
       "'#2 SMP Sat Jun 10 18:15:29 PDT 2023'"
      ]
     },
     "execution_count": 3,
     "metadata": {},
     "output_type": "execute_result"
    }
   ],
   "source": [
    "platform.version()"
   ]
  },
  {
   "cell_type": "code",
   "execution_count": 4,
   "id": "239c2f6d-c8d1-4d48-9a9a-15e828f592f0",
   "metadata": {},
   "outputs": [
    {
     "data": {
      "text/plain": [
       "'Linux-5.15.0-102.110.5.1.el8uek.x86_64-x86_64-with-glibc2.28'"
      ]
     },
     "execution_count": 4,
     "metadata": {},
     "output_type": "execute_result"
    }
   ],
   "source": [
    "platform.platform()"
   ]
  },
  {
   "cell_type": "code",
   "execution_count": 5,
   "id": "53549f76-ae74-46e7-b4b4-618e17726f95",
   "metadata": {},
   "outputs": [
    {
     "data": {
      "text/plain": [
       "uname_result(system='Linux', node='instance-20230802-0946', release='5.15.0-102.110.5.1.el8uek.x86_64', version='#2 SMP Sat Jun 10 18:15:29 PDT 2023', machine='x86_64')"
      ]
     },
     "execution_count": 5,
     "metadata": {},
     "output_type": "execute_result"
    }
   ],
   "source": [
    "platform.uname()"
   ]
  },
  {
   "cell_type": "code",
   "execution_count": 6,
   "id": "27f6fe9f-5c15-47ba-8fde-fa3a3e652dc9",
   "metadata": {},
   "outputs": [
    {
     "data": {
      "text/plain": [
       "'Linux'"
      ]
     },
     "execution_count": 6,
     "metadata": {},
     "output_type": "execute_result"
    }
   ],
   "source": [
    "platform.system()"
   ]
  },
  {
   "cell_type": "code",
   "execution_count": 7,
   "id": "b5fc8dbe-a450-4e1b-b405-22dfe82ec7d4",
   "metadata": {
    "tags": []
   },
   "outputs": [
    {
     "data": {
      "text/plain": [
       "'x86_64'"
      ]
     },
     "execution_count": 7,
     "metadata": {},
     "output_type": "execute_result"
    }
   ],
   "source": [
    "platform.processor()"
   ]
  },
  {
   "cell_type": "code",
   "execution_count": 8,
   "id": "a00422c5-4ff5-4e17-9d01-46de0eb67a30",
   "metadata": {
    "tags": []
   },
   "outputs": [
    {
     "data": {
      "text/plain": [
       "'94,345,003,008 bytes'"
      ]
     },
     "execution_count": 8,
     "metadata": {},
     "output_type": "execute_result"
    }
   ],
   "source": [
    "f\"{psutil.virtual_memory().total:,} bytes\""
   ]
  }
 ],
 "metadata": {
  "kernelspec": {
   "display_name": "falcon-7b-finetune",
   "language": "python",
   "name": "falcon"
  },
  "language_info": {
   "codemirror_mode": {
    "name": "ipython",
    "version": 3
   },
   "file_extension": ".py",
   "mimetype": "text/x-python",
   "name": "python",
   "nbconvert_exporter": "python",
   "pygments_lexer": "ipython3",
   "version": "3.10.12"
  }
 },
 "nbformat": 4,
 "nbformat_minor": 5
}
